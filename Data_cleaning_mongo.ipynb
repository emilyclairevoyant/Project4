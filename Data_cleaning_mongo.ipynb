{
 "cells": [
  {
   "cell_type": "code",
   "execution_count": 1,
   "id": "af8a1e91-4937-4d10-aaab-dd65533353b4",
   "metadata": {},
   "outputs": [],
   "source": [
    "# Import dependencies\n",
    "from pymongo import MongoClient\n",
    "import json\n",
    "import requests \n",
    "from pprint import pprint"
   ]
  },
  {
   "cell_type": "code",
   "execution_count": 2,
   "id": "12554eb7-909b-4dee-9f7c-02c5cf1ba2e4",
   "metadata": {},
   "outputs": [],
   "source": [
    "mongo = MongoClient(port=27017)"
   ]
  },
  {
   "cell_type": "code",
   "execution_count": 3,
   "id": "55ff9c62-0f67-49a1-8dc8-e8e8ae919654",
   "metadata": {},
   "outputs": [],
   "source": [
    "db = mongo['Project4_Test']"
   ]
  },
  {
   "cell_type": "code",
   "execution_count": 4,
   "id": "a3470998-7c5c-4f61-8b10-1dd8e55b0945",
   "metadata": {},
   "outputs": [
    {
     "data": {
      "text/plain": [
       "['movies_data', 'Ratings', 'Links', 'Movies', 'Tags']"
      ]
     },
     "execution_count": 4,
     "metadata": {},
     "output_type": "execute_result"
    }
   ],
   "source": [
    "db.list_collection_names()"
   ]
  },
  {
   "cell_type": "code",
   "execution_count": null,
   "id": "c0bd33e2-9ff1-40bc-8b12-605d7f890b59",
   "metadata": {},
   "outputs": [],
   "source": [
    "ratings = db['Ratings']"
   ]
  }
 ],
 "metadata": {
  "kernelspec": {
   "display_name": "Python 3 (ipykernel)",
   "language": "python",
   "name": "python3"
  },
  "language_info": {
   "codemirror_mode": {
    "name": "ipython",
    "version": 3
   },
   "file_extension": ".py",
   "mimetype": "text/x-python",
   "name": "python",
   "nbconvert_exporter": "python",
   "pygments_lexer": "ipython3",
   "version": "3.10.14"
  }
 },
 "nbformat": 4,
 "nbformat_minor": 5
}

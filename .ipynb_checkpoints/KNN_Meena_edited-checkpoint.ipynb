{
 "cells": [
  {
   "cell_type": "code",
   "execution_count": 1,
   "id": "f9563bfe-b494-43be-9b79-81eccb120983",
   "metadata": {},
   "outputs": [],
   "source": [
    "import os\n",
    "import numpy as np\n",
    "import pandas as pd\n",
    "import matplotlib.pyplot as plt\n",
    "%matplotlib inline\n",
    "from datetime import datetime\n",
    "from scipy.sparse import csr_matrix, coo_matrix"
   ]
  },
  {
   "cell_type": "code",
   "execution_count": 2,
   "id": "01239ad5-21ad-4047-a093-a39e23b22cab",
   "metadata": {},
   "outputs": [
    {
     "data": {
      "text/html": [
       "<div>\n",
       "<style scoped>\n",
       "    .dataframe tbody tr th:only-of-type {\n",
       "        vertical-align: middle;\n",
       "    }\n",
       "\n",
       "    .dataframe tbody tr th {\n",
       "        vertical-align: top;\n",
       "    }\n",
       "\n",
       "    .dataframe thead th {\n",
       "        text-align: right;\n",
       "    }\n",
       "</style>\n",
       "<table border=\"1\" class=\"dataframe\">\n",
       "  <thead>\n",
       "    <tr style=\"text-align: right;\">\n",
       "      <th></th>\n",
       "      <th>movieId</th>\n",
       "      <th>title</th>\n",
       "      <th>genres</th>\n",
       "    </tr>\n",
       "  </thead>\n",
       "  <tbody>\n",
       "    <tr>\n",
       "      <th>0</th>\n",
       "      <td>1</td>\n",
       "      <td>Toy Story (1995)</td>\n",
       "      <td>Adventure|Animation|Children|Comedy|Fantasy</td>\n",
       "    </tr>\n",
       "    <tr>\n",
       "      <th>1</th>\n",
       "      <td>2</td>\n",
       "      <td>Jumanji (1995)</td>\n",
       "      <td>Adventure|Children|Fantasy</td>\n",
       "    </tr>\n",
       "    <tr>\n",
       "      <th>2</th>\n",
       "      <td>3</td>\n",
       "      <td>Grumpier Old Men (1995)</td>\n",
       "      <td>Comedy|Romance</td>\n",
       "    </tr>\n",
       "    <tr>\n",
       "      <th>3</th>\n",
       "      <td>4</td>\n",
       "      <td>Waiting to Exhale (1995)</td>\n",
       "      <td>Comedy|Drama|Romance</td>\n",
       "    </tr>\n",
       "    <tr>\n",
       "      <th>4</th>\n",
       "      <td>5</td>\n",
       "      <td>Father of the Bride Part II (1995)</td>\n",
       "      <td>Comedy</td>\n",
       "    </tr>\n",
       "  </tbody>\n",
       "</table>\n",
       "</div>"
      ],
      "text/plain": [
       "   movieId                               title  \\\n",
       "0        1                    Toy Story (1995)   \n",
       "1        2                      Jumanji (1995)   \n",
       "2        3             Grumpier Old Men (1995)   \n",
       "3        4            Waiting to Exhale (1995)   \n",
       "4        5  Father of the Bride Part II (1995)   \n",
       "\n",
       "                                        genres  \n",
       "0  Adventure|Animation|Children|Comedy|Fantasy  \n",
       "1                   Adventure|Children|Fantasy  \n",
       "2                               Comedy|Romance  \n",
       "3                         Comedy|Drama|Romance  \n",
       "4                                       Comedy  "
      ]
     },
     "execution_count": 2,
     "metadata": {},
     "output_type": "execute_result"
    }
   ],
   "source": [
    "# Take in all of our movies and ratings csvs and read it into pandas\n",
    "movies = \"Resources/ml-latest-small/movies.csv\"\n",
    "ratings = \"Resources/ml-latest-small/ratings.csv\"\n",
    "movies_df = pd.read_csv(movies)\n",
    "movies_df.head()\n"
   ]
  },
  {
   "cell_type": "code",
   "execution_count": 3,
   "id": "d56e542c-ca0b-42df-bb6a-653373827487",
   "metadata": {},
   "outputs": [
    {
     "data": {
      "text/html": [
       "<div>\n",
       "<style scoped>\n",
       "    .dataframe tbody tr th:only-of-type {\n",
       "        vertical-align: middle;\n",
       "    }\n",
       "\n",
       "    .dataframe tbody tr th {\n",
       "        vertical-align: top;\n",
       "    }\n",
       "\n",
       "    .dataframe thead th {\n",
       "        text-align: right;\n",
       "    }\n",
       "</style>\n",
       "<table border=\"1\" class=\"dataframe\">\n",
       "  <thead>\n",
       "    <tr style=\"text-align: right;\">\n",
       "      <th></th>\n",
       "      <th>movieId</th>\n",
       "      <th>title</th>\n",
       "      <th>genres</th>\n",
       "      <th>release_year</th>\n",
       "    </tr>\n",
       "  </thead>\n",
       "  <tbody>\n",
       "    <tr>\n",
       "      <th>0</th>\n",
       "      <td>1</td>\n",
       "      <td>Toy Story</td>\n",
       "      <td>Adventure|Animation|Children|Comedy|Fantasy</td>\n",
       "      <td>1995</td>\n",
       "    </tr>\n",
       "    <tr>\n",
       "      <th>1</th>\n",
       "      <td>2</td>\n",
       "      <td>Jumanji</td>\n",
       "      <td>Adventure|Children|Fantasy</td>\n",
       "      <td>1995</td>\n",
       "    </tr>\n",
       "    <tr>\n",
       "      <th>2</th>\n",
       "      <td>3</td>\n",
       "      <td>Grumpier Old Men</td>\n",
       "      <td>Comedy|Romance</td>\n",
       "      <td>1995</td>\n",
       "    </tr>\n",
       "    <tr>\n",
       "      <th>3</th>\n",
       "      <td>4</td>\n",
       "      <td>Waiting to Exhale</td>\n",
       "      <td>Comedy|Drama|Romance</td>\n",
       "      <td>1995</td>\n",
       "    </tr>\n",
       "    <tr>\n",
       "      <th>4</th>\n",
       "      <td>5</td>\n",
       "      <td>Father of the Bride Part II</td>\n",
       "      <td>Comedy</td>\n",
       "      <td>1995</td>\n",
       "    </tr>\n",
       "  </tbody>\n",
       "</table>\n",
       "</div>"
      ],
      "text/plain": [
       "   movieId                        title  \\\n",
       "0        1                    Toy Story   \n",
       "1        2                      Jumanji   \n",
       "2        3             Grumpier Old Men   \n",
       "3        4            Waiting to Exhale   \n",
       "4        5  Father of the Bride Part II   \n",
       "\n",
       "                                        genres release_year  \n",
       "0  Adventure|Animation|Children|Comedy|Fantasy         1995  \n",
       "1                   Adventure|Children|Fantasy         1995  \n",
       "2                               Comedy|Romance         1995  \n",
       "3                         Comedy|Drama|Romance         1995  \n",
       "4                                       Comedy         1995  "
      ]
     },
     "execution_count": 3,
     "metadata": {},
     "output_type": "execute_result"
    }
   ],
   "source": [
    "# Extract the release year from the title column\n",
    "movies_df[\"release_year\"] = movies_df[\"title\"].str.extract(r'\\((\\d{4})\\)')\n",
    "\n",
    "# Remove the year from the title column\n",
    "movies_df[\"title\"] = movies_df[\"title\"].str.replace(r\" \\(\\d{4}\\)\", \"\", regex=True)\n",
    "\n",
    "# Display the updated DataFrame\n",
    "movies_df.head()"
   ]
  },
  {
   "cell_type": "code",
   "execution_count": 4,
   "id": "ab463a44-9e84-4b63-abcb-e8dde5bfed7a",
   "metadata": {},
   "outputs": [],
   "source": [
    "# #cleaning up the genres column to a list instead of a string\n",
    "# movies_df['genres'] = movies_df['genres'].apply(lambda x: x.split('|') )\n",
    "# movies_df.head()"
   ]
  },
  {
   "cell_type": "code",
   "execution_count": 5,
   "id": "a109c462-922c-4562-9f93-122afeb47246",
   "metadata": {},
   "outputs": [],
   "source": [
    "\n",
    "from collections import Counter"
   ]
  },
  {
   "cell_type": "code",
   "execution_count": 6,
   "id": "802da074-842c-4f0d-9242-c48da0cdded0",
   "metadata": {},
   "outputs": [
    {
     "data": {
      "text/html": [
       "<div>\n",
       "<style scoped>\n",
       "    .dataframe tbody tr th:only-of-type {\n",
       "        vertical-align: middle;\n",
       "    }\n",
       "\n",
       "    .dataframe tbody tr th {\n",
       "        vertical-align: top;\n",
       "    }\n",
       "\n",
       "    .dataframe thead th {\n",
       "        text-align: right;\n",
       "    }\n",
       "</style>\n",
       "<table border=\"1\" class=\"dataframe\">\n",
       "  <thead>\n",
       "    <tr style=\"text-align: right;\">\n",
       "      <th></th>\n",
       "      <th>userId</th>\n",
       "      <th>movieId</th>\n",
       "      <th>rating</th>\n",
       "      <th>timestamp</th>\n",
       "    </tr>\n",
       "  </thead>\n",
       "  <tbody>\n",
       "    <tr>\n",
       "      <th>0</th>\n",
       "      <td>1</td>\n",
       "      <td>1</td>\n",
       "      <td>4.0</td>\n",
       "      <td>964982703</td>\n",
       "    </tr>\n",
       "    <tr>\n",
       "      <th>1</th>\n",
       "      <td>1</td>\n",
       "      <td>3</td>\n",
       "      <td>4.0</td>\n",
       "      <td>964981247</td>\n",
       "    </tr>\n",
       "    <tr>\n",
       "      <th>2</th>\n",
       "      <td>1</td>\n",
       "      <td>6</td>\n",
       "      <td>4.0</td>\n",
       "      <td>964982224</td>\n",
       "    </tr>\n",
       "    <tr>\n",
       "      <th>3</th>\n",
       "      <td>1</td>\n",
       "      <td>47</td>\n",
       "      <td>5.0</td>\n",
       "      <td>964983815</td>\n",
       "    </tr>\n",
       "    <tr>\n",
       "      <th>4</th>\n",
       "      <td>1</td>\n",
       "      <td>50</td>\n",
       "      <td>5.0</td>\n",
       "      <td>964982931</td>\n",
       "    </tr>\n",
       "  </tbody>\n",
       "</table>\n",
       "</div>"
      ],
      "text/plain": [
       "   userId  movieId  rating  timestamp\n",
       "0       1        1     4.0  964982703\n",
       "1       1        3     4.0  964981247\n",
       "2       1        6     4.0  964982224\n",
       "3       1       47     5.0  964983815\n",
       "4       1       50     5.0  964982931"
      ]
     },
     "execution_count": 6,
     "metadata": {},
     "output_type": "execute_result"
    }
   ],
   "source": [
    "ratings_df = pd.read_csv(ratings)\n",
    "ratings_df.head()"
   ]
  },
  {
   "cell_type": "code",
   "execution_count": 7,
   "id": "c5f16399-9c13-41f4-874f-d97f2d0a08aa",
   "metadata": {},
   "outputs": [
    {
     "data": {
      "text/html": [
       "<div>\n",
       "<style scoped>\n",
       "    .dataframe tbody tr th:only-of-type {\n",
       "        vertical-align: middle;\n",
       "    }\n",
       "\n",
       "    .dataframe tbody tr th {\n",
       "        vertical-align: top;\n",
       "    }\n",
       "\n",
       "    .dataframe thead th {\n",
       "        text-align: right;\n",
       "    }\n",
       "</style>\n",
       "<table border=\"1\" class=\"dataframe\">\n",
       "  <thead>\n",
       "    <tr style=\"text-align: right;\">\n",
       "      <th></th>\n",
       "      <th>movieId</th>\n",
       "      <th>title</th>\n",
       "      <th>genres</th>\n",
       "      <th>release_year</th>\n",
       "      <th>userId</th>\n",
       "      <th>rating</th>\n",
       "      <th>timestamp</th>\n",
       "    </tr>\n",
       "  </thead>\n",
       "  <tbody>\n",
       "    <tr>\n",
       "      <th>0</th>\n",
       "      <td>1</td>\n",
       "      <td>Toy Story</td>\n",
       "      <td>Adventure|Animation|Children|Comedy|Fantasy</td>\n",
       "      <td>1995</td>\n",
       "      <td>1</td>\n",
       "      <td>4.0</td>\n",
       "      <td>964982703</td>\n",
       "    </tr>\n",
       "    <tr>\n",
       "      <th>1</th>\n",
       "      <td>1</td>\n",
       "      <td>Toy Story</td>\n",
       "      <td>Adventure|Animation|Children|Comedy|Fantasy</td>\n",
       "      <td>1995</td>\n",
       "      <td>5</td>\n",
       "      <td>4.0</td>\n",
       "      <td>847434962</td>\n",
       "    </tr>\n",
       "    <tr>\n",
       "      <th>2</th>\n",
       "      <td>1</td>\n",
       "      <td>Toy Story</td>\n",
       "      <td>Adventure|Animation|Children|Comedy|Fantasy</td>\n",
       "      <td>1995</td>\n",
       "      <td>7</td>\n",
       "      <td>4.5</td>\n",
       "      <td>1106635946</td>\n",
       "    </tr>\n",
       "    <tr>\n",
       "      <th>3</th>\n",
       "      <td>1</td>\n",
       "      <td>Toy Story</td>\n",
       "      <td>Adventure|Animation|Children|Comedy|Fantasy</td>\n",
       "      <td>1995</td>\n",
       "      <td>15</td>\n",
       "      <td>2.5</td>\n",
       "      <td>1510577970</td>\n",
       "    </tr>\n",
       "    <tr>\n",
       "      <th>4</th>\n",
       "      <td>1</td>\n",
       "      <td>Toy Story</td>\n",
       "      <td>Adventure|Animation|Children|Comedy|Fantasy</td>\n",
       "      <td>1995</td>\n",
       "      <td>17</td>\n",
       "      <td>4.5</td>\n",
       "      <td>1305696483</td>\n",
       "    </tr>\n",
       "  </tbody>\n",
       "</table>\n",
       "</div>"
      ],
      "text/plain": [
       "   movieId      title                                       genres  \\\n",
       "0        1  Toy Story  Adventure|Animation|Children|Comedy|Fantasy   \n",
       "1        1  Toy Story  Adventure|Animation|Children|Comedy|Fantasy   \n",
       "2        1  Toy Story  Adventure|Animation|Children|Comedy|Fantasy   \n",
       "3        1  Toy Story  Adventure|Animation|Children|Comedy|Fantasy   \n",
       "4        1  Toy Story  Adventure|Animation|Children|Comedy|Fantasy   \n",
       "\n",
       "  release_year  userId  rating   timestamp  \n",
       "0         1995       1     4.0   964982703  \n",
       "1         1995       5     4.0   847434962  \n",
       "2         1995       7     4.5  1106635946  \n",
       "3         1995      15     2.5  1510577970  \n",
       "4         1995      17     4.5  1305696483  "
      ]
     },
     "execution_count": 7,
     "metadata": {},
     "output_type": "execute_result"
    }
   ],
   "source": [
    "# Merge the DataFrames on movieId\n",
    "consolidated_movies_df = movies_df.merge(ratings_df, on = 'movieId', how ='inner')\n",
    "consolidated_movies_df.head()"
   ]
  },
  {
   "cell_type": "code",
   "execution_count": 8,
   "id": "82892bd1-5026-4f6f-b9fc-7d63d4f8eae2",
   "metadata": {},
   "outputs": [
    {
     "data": {
      "text/html": [
       "<div>\n",
       "<style scoped>\n",
       "    .dataframe tbody tr th:only-of-type {\n",
       "        vertical-align: middle;\n",
       "    }\n",
       "\n",
       "    .dataframe tbody tr th {\n",
       "        vertical-align: top;\n",
       "    }\n",
       "\n",
       "    .dataframe thead th {\n",
       "        text-align: right;\n",
       "    }\n",
       "</style>\n",
       "<table border=\"1\" class=\"dataframe\">\n",
       "  <thead>\n",
       "    <tr style=\"text-align: right;\">\n",
       "      <th></th>\n",
       "      <th>movieId</th>\n",
       "      <th>title</th>\n",
       "      <th>genres</th>\n",
       "      <th>release_year</th>\n",
       "      <th>userId</th>\n",
       "      <th>rating</th>\n",
       "      <th>timestamp</th>\n",
       "      <th>rating_year</th>\n",
       "    </tr>\n",
       "  </thead>\n",
       "  <tbody>\n",
       "    <tr>\n",
       "      <th>0</th>\n",
       "      <td>1</td>\n",
       "      <td>Toy Story</td>\n",
       "      <td>Adventure|Animation|Children|Comedy|Fantasy</td>\n",
       "      <td>1995</td>\n",
       "      <td>1</td>\n",
       "      <td>4.0</td>\n",
       "      <td>964982703</td>\n",
       "      <td>2000</td>\n",
       "    </tr>\n",
       "    <tr>\n",
       "      <th>1</th>\n",
       "      <td>1</td>\n",
       "      <td>Toy Story</td>\n",
       "      <td>Adventure|Animation|Children|Comedy|Fantasy</td>\n",
       "      <td>1995</td>\n",
       "      <td>5</td>\n",
       "      <td>4.0</td>\n",
       "      <td>847434962</td>\n",
       "      <td>1996</td>\n",
       "    </tr>\n",
       "    <tr>\n",
       "      <th>2</th>\n",
       "      <td>1</td>\n",
       "      <td>Toy Story</td>\n",
       "      <td>Adventure|Animation|Children|Comedy|Fantasy</td>\n",
       "      <td>1995</td>\n",
       "      <td>7</td>\n",
       "      <td>4.5</td>\n",
       "      <td>1106635946</td>\n",
       "      <td>2005</td>\n",
       "    </tr>\n",
       "    <tr>\n",
       "      <th>3</th>\n",
       "      <td>1</td>\n",
       "      <td>Toy Story</td>\n",
       "      <td>Adventure|Animation|Children|Comedy|Fantasy</td>\n",
       "      <td>1995</td>\n",
       "      <td>15</td>\n",
       "      <td>2.5</td>\n",
       "      <td>1510577970</td>\n",
       "      <td>2017</td>\n",
       "    </tr>\n",
       "    <tr>\n",
       "      <th>4</th>\n",
       "      <td>1</td>\n",
       "      <td>Toy Story</td>\n",
       "      <td>Adventure|Animation|Children|Comedy|Fantasy</td>\n",
       "      <td>1995</td>\n",
       "      <td>17</td>\n",
       "      <td>4.5</td>\n",
       "      <td>1305696483</td>\n",
       "      <td>2011</td>\n",
       "    </tr>\n",
       "  </tbody>\n",
       "</table>\n",
       "</div>"
      ],
      "text/plain": [
       "   movieId      title                                       genres  \\\n",
       "0        1  Toy Story  Adventure|Animation|Children|Comedy|Fantasy   \n",
       "1        1  Toy Story  Adventure|Animation|Children|Comedy|Fantasy   \n",
       "2        1  Toy Story  Adventure|Animation|Children|Comedy|Fantasy   \n",
       "3        1  Toy Story  Adventure|Animation|Children|Comedy|Fantasy   \n",
       "4        1  Toy Story  Adventure|Animation|Children|Comedy|Fantasy   \n",
       "\n",
       "  release_year  userId  rating   timestamp  rating_year  \n",
       "0         1995       1     4.0   964982703         2000  \n",
       "1         1995       5     4.0   847434962         1996  \n",
       "2         1995       7     4.5  1106635946         2005  \n",
       "3         1995      15     2.5  1510577970         2017  \n",
       "4         1995      17     4.5  1305696483         2011  "
      ]
     },
     "execution_count": 8,
     "metadata": {},
     "output_type": "execute_result"
    }
   ],
   "source": [
    "# Convert timestamp to year and store in a new column `rating_year`\n",
    "consolidated_movies_df['rating_year'] = consolidated_movies_df['timestamp'].apply(\n",
    "    lambda x: datetime.utcfromtimestamp(x).year\n",
    ")\n",
    "\n",
    "# Display the DataFrame\n",
    "consolidated_movies_df.head()"
   ]
  },
  {
   "cell_type": "code",
   "execution_count": 9,
   "id": "eaf13b07-4a85-4c3e-acb0-5161209a8b63",
   "metadata": {},
   "outputs": [
    {
     "data": {
      "text/plain": [
       "movieId           int64\n",
       "title            object\n",
       "genres           object\n",
       "release_year     object\n",
       "userId            int64\n",
       "rating          float64\n",
       "timestamp         int64\n",
       "rating_year       int64\n",
       "dtype: object"
      ]
     },
     "execution_count": 9,
     "metadata": {},
     "output_type": "execute_result"
    }
   ],
   "source": [
    "consolidated_movies_df.dtypes"
   ]
  },
  {
   "cell_type": "code",
   "execution_count": 10,
   "id": "3826858e-bb47-4f43-8859-bb3bd54fa683",
   "metadata": {},
   "outputs": [
    {
     "name": "stdout",
     "output_type": "stream",
     "text": [
      "movieId          0\n",
      "title            0\n",
      "genres           0\n",
      "release_year    18\n",
      "userId           0\n",
      "rating           0\n",
      "timestamp        0\n",
      "rating_year      0\n",
      "dtype: int64\n"
     ]
    }
   ],
   "source": [
    "print(consolidated_movies_df.isnull().sum())"
   ]
  },
  {
   "cell_type": "markdown",
   "id": "93b70bcc-1040-4b8b-b4b7-e0f7a37271f9",
   "metadata": {},
   "source": [
    "**Data Preprocessing**:\n",
    "\n",
    "*Collaborative Filtering* \n",
    "\n",
    "We will use a method called collaborative filtering to generate user recommendations. This approach operates on the principle that individuals with similar preferences tend to enjoy similar items.\n",
    "\n",
    "The first step involves converting our dataset into a user-item matrix, also referred to as a \"utility matrix.\" In this matrix, each row corresponds to a user, and each column represents a movie. A key advantage of collaborative filtering is its ability to generate recommendations without relying on additional information about the users or the items.\n",
    "\n",
    "The create_X() function produces a sparse matrix along with four mapping dictionaries:\n",
    "\n",
    "user_mapper: Maps user IDs to their corresponding row indices.\n",
    "\n",
    "movie_mapper: Maps movie IDs to their corresponding column indices.\n",
    "\n",
    "user_inv_mapper: Maps row indices back to user IDs.\n",
    "\n",
    "movie_inv_mapper: Maps column indices back to movie IDs.\n",
    "\n",
    "These dictionaries are essential for linking the rows and columns of the utility matrix to their respective user and movie IDs.\n",
    "\n",
    "The resulting user-item matrix is a scipy.sparse.csr_matrix, designed to efficiently store and handle sparse data.\n"
   ]
  },
  {
   "cell_type": "code",
   "execution_count": 11,
   "id": "04265bef-e404-4e39-96e7-6064a13f620e",
   "metadata": {},
   "outputs": [],
   "source": [
    "from scipy.sparse import csr_matrix\n",
    "\n",
    "# def create_X(consolidated_movies_df):\n",
    "#     \"\"\"\n",
    "#     Generates a sparse matrix from ratings dataframe.\n",
    "    \n",
    "#     Args:\n",
    "#         consolidated_movies_df: pandas dataframe containing columns (userId, movieId, rating)\n",
    "    \n",
    "#     Returns:\n",
    "#         X: sparse matrix\n",
    "#         user_mapper: dict mapping user id's to user indices\n",
    "#         user_inv_mapper: dict mapping user indices to user id's\n",
    "#         movie_mapper: dict mapping movie id's to movie indices\n",
    "#         movie_inv_mapper: dict mapping movie indices to movie id's\n",
    "#     \"\"\"\n",
    "#     # Number of unique users and movies\n",
    "#     M = consolidated_movies_df['userId'].nunique()\n",
    "#     N = consolidated_movies_df['movieId'].nunique()\n",
    "\n",
    "#     # Mapping dictionaries\n",
    "#     user_mapper = dict(zip(np.unique(consolidated_movies_df[\"userId\"]), list(range(M))))\n",
    "#     movie_mapper = dict(zip(np.unique(consolidated_movies_df[\"movieId\"]), list(range(N))))\n",
    "    \n",
    "#     user_inv_mapper = dict(zip(list(range(M)), np.unique(consolidated_movies_df[\"userId\"])))\n",
    "#     movie_inv_mapper = dict(zip(list(range(N)), np.unique(consolidated_movies_df[\"movieId\"])))\n",
    "    \n",
    "#     # Map user and movie IDs to their matrix indices\n",
    "#     user_index = [user_mapper[i] for i in consolidated_movies_df['userId']]\n",
    "#     item_index = [movie_mapper[i] for i in consolidated_movies_df['movieId']]\n",
    "\n",
    "#     # Create the sparse matrix\n",
    "#     X = csr_matrix((consolidated_movies_df[\"rating\"], (user_index, item_index)), shape=(M, N))\n",
    "    \n",
    "#     return X, user_mapper, movie_mapper, user_inv_mapper, movie_inv_mapper\n",
    "\n",
    "# # Example usage\n",
    "# X, user_mapper, movie_mapper, user_inv_mapper, movie_inv_mapper = create_X(consolidated_movies_df)"
   ]
  },
  {
   "cell_type": "code",
   "execution_count": 12,
   "id": "8f24f71e-4c5d-49c3-821d-24f3bd407235",
   "metadata": {},
   "outputs": [
    {
     "name": "stdout",
     "output_type": "stream",
     "text": [
      "Shape of X: (610, 194480)\n"
     ]
    }
   ],
   "source": [
    "# ARIELMY: SEE XPERT RECC TO INCLUDE GENRE INFO [SAVED IN ME-NOTES WORD DOC]\n",
    "def create_X(consolidated_movies_df):\n",
    "    \"\"\" Generates a user-movie-genre-ratings interaction matrix.\n",
    "    \n",
    "    Args:\n",
    "        consolidated_movies_df: pandas dataframe containing columns (userId, movieId, rating, genres)\n",
    "    \n",
    "    Returns:\n",
    "        user_movie_genre_ratings_matrix: sparse matrix of user-movie-genre ratings interactions\n",
    "        user_mapper: dict mapping user id's to user indices\n",
    "        movie_mapper: dict mapping movie id's to movie indices\n",
    "        genre_mapper: dict mapping genre names to genre indices\n",
    "    \"\"\"\n",
    "    # Number of unique users, movies, and genres\n",
    "    users = consolidated_movies_df['userId'].unique()\n",
    "    movies = consolidated_movies_df['movieId'].unique()\n",
    "    \n",
    "    user_mapper = {user: idx for idx, user in enumerate(users)}\n",
    "    movie_mapper = {movie: idx for idx, movie in enumerate(movies)}\n",
    "    \n",
    "    # Ensure genres are in string format (if they are lists, convert to a string)\n",
    "    if isinstance(consolidated_movies_df['genres'].iloc[0], list):\n",
    "        consolidated_movies_df['genres'] = consolidated_movies_df['genres'].apply(lambda x: '|'.join(x))\n",
    "    \n",
    "    # Create a one-hot encoding for genres\n",
    "    genres_dummies = consolidated_movies_df[['movieId', 'genres']].drop_duplicates()\n",
    "    genres_one_hot = genres_dummies['genres'].str.get_dummies(sep='|')\n",
    "    \n",
    "    # Create genre mapping\n",
    "    genre_names = genres_one_hot.columns\n",
    "    genre_mapper = {genre: idx for idx, genre in enumerate(genre_names)}\n",
    "    \n",
    "    # Prepare data for the user-movie-genre-ratings interaction matrix\n",
    "    data = []\n",
    "    row_indices = []\n",
    "    col_indices = []\n",
    "    \n",
    "    for _, row in consolidated_movies_df.iterrows():\n",
    "        user_idx = user_mapper[row['userId']]\n",
    "        movie_idx = movie_mapper[row['movieId']]\n",
    "        \n",
    "        # Get the genres for the movie\n",
    "        genres = row['genres'].split('|')\n",
    "        \n",
    "        for genre in genres:\n",
    "            if genre in genre_mapper:\n",
    "                genre_idx = genre_mapper[genre]\n",
    "                # Use the rating as the interaction value\n",
    "                data.append(row['rating'])  \n",
    "                row_indices.append(user_idx)  # User index\n",
    "                # Combine movie index and genre index\n",
    "                col_indices.append(movie_idx * len(genre_names) + genre_idx)  \n",
    "    \n",
    "    # Create a COO sparse matrix\n",
    "    user_movie_genre_ratings_matrix = coo_matrix((data, (row_indices, col_indices)), \n",
    "                                                  shape=(len(users), len(movies) * len(genre_names)))\n",
    "    \n",
    "    return user_movie_genre_ratings_matrix, user_mapper, movie_mapper, genre_mapper\n",
    "\n",
    "# Example usage\n",
    "# Assuming consolidated_movies_df has columns: userId, movieId, rating, genres\n",
    "X, user_mapper, movie_mapper, genre_mapper = create_X(consolidated_movies_df)\n",
    "\n",
    "# Check the shape of the resulting matrix\n",
    "print(\"Shape of X:\", X.shape)"
   ]
  },
  {
   "cell_type": "code",
   "execution_count": 13,
   "id": "7decfae6-92ea-4307-86a8-f2ce9fd6cecc",
   "metadata": {},
   "outputs": [],
   "source": [
    "# # ARIELMY\n",
    "# def create_user_movie_genre_interaction(consolidated_movies_df):\n",
    "#     \"\"\" Generates a user-movie-genre interaction matrix.\n",
    "    \n",
    "#     Args:\n",
    "#         consolidated_movies_df: pandas dataframe containing columns (userId, movieId, rating, genres)\n",
    "    \n",
    "#     Returns:\n",
    "#         user_movie_genre_matrix: sparse matrix of user-movie-genre interactions\n",
    "#         user_mapper: dict mapping user id's to user indices\n",
    "#         movie_mapper: dict mapping movie id's to movie indices\n",
    "#         genre_mapper: dict mapping genre names to genre indices\n",
    "#     \"\"\"\n",
    "#     # Number of unique users, movies, and genres\n",
    "#     users = consolidated_movies_df['userId'].unique()\n",
    "#     movies = consolidated_movies_df['movieId'].unique()\n",
    "    \n",
    "#     user_mapper = {user: idx for idx, user in enumerate(users)}\n",
    "#     movie_mapper = {movie: idx for idx, movie in enumerate(movies)}\n",
    "    \n",
    "#     # Create a one-hot encoding for genres\n",
    "#     genres_dummies = consolidated_movies_df[['movieId', 'genres']].drop_duplicates()\n",
    "#     genres_dummies['genres'] = genres_dummies['genres'].str.get_dummies(sep='|')\n",
    "    \n",
    "#     # Create genre mapping\n",
    "#     genre_names = genres_dummies['genres'].str.get_dummies(sep='|').columns\n",
    "#     genre_mapper = {genre: idx for idx, genre in enumerate(genre_names)}\n",
    "    \n",
    "#     # Prepare data for the user-movie-genre interaction matrix\n",
    "#     data = []\n",
    "#     row_indices = []\n",
    "#     col_indices = []\n",
    "    \n",
    "#     for _, row in consolidated_movies_df.iterrows():\n",
    "#         user_idx = user_mapper[row['userId']]\n",
    "#         movie_idx = movie_mapper[row['movieId']]\n",
    "        \n",
    "#         # Get the genres for the movie\n",
    "#         genres = row['genres'].split('|')\n",
    "        \n",
    "#         for genre in genres:\n",
    "#             if genre in genre_mapper:\n",
    "#                 genre_idx = genre_mapper[genre]\n",
    "#                 data.append(row['rating'])  # Use the rating as the interaction value\n",
    "#                 row_indices.append(user_idx)  # User index\n",
    "#                 col_indices.append(movie_idx * len(genre_names) + genre_idx)  # Combine movie and genre index\n",
    "    \n",
    "#     # Create a COO sparse matrix\n",
    "#     user_movie_genre_matrix = coo_matrix((data, (row_indices, col_indices)), \n",
    "#                                           shape=(len(users), len(movies) * len(genre_names)))\n",
    "    \n",
    "#     return user_movie_genre_matrix, user_mapper, movie_mapper, genre_mapper\n",
    "\n",
    "# # Example usage\n",
    "# # Assuming consolidated_movies_df has columns: userId, movieId, rating, genres\n",
    "# user_movie_genre_matrix, user_mapper, movie_mapper, genre_mapper = create_user_movie_genre_interaction(consolidated_movies_df)\n",
    "\n",
    "# # Check the shape of the resulting matrix\n",
    "# print(\"Shape of user-movie-genre interaction matrix:\", user_movie_genre_matrix.shape)\n"
   ]
  },
  {
   "cell_type": "markdown",
   "id": "6d3e9f2f-7eeb-4e15-b1c3-a4561ca4da18",
   "metadata": {},
   "source": [
    "Our X matrix contains 610 users and 9724 movies [UPDATE THIS]"
   ]
  },
  {
   "cell_type": "markdown",
   "id": "571d3c00-9d8c-42b8-a65c-6310c2fa446f",
   "metadata": {},
   "source": [
    "Evaluating Sparsity : Evaluating sparsity in collaborative filtering models is essential to address data challenges, improve performance, and ensure effective recommendations. Sparse data limits the system's ability to learn preferences, exacerbates cold start issues, and risks overfitting or biasing predictions. It influences algorithm suitability, often favoring matrix factorization over neighborhood-based methods, and highlights the need for hybrid approaches. Sparse datasets also demand efficient computational structures and can complicate optimization. Understanding sparsity aids in refining data collection, imputation, and preprocessing strategies, while revealing user behavior and item popularity trends. This evaluation is vital for designing robust, scalable recommendation systems. Here, we calculate sparsity by dividing the number of stored elements by total number of elements. The number of stored (non-empty) elements in our matrix ([nnz](https://docs.scipy.org/doc/scipy/reference/generated/scipy.sparse.csr_matrix.nnz.html)) is equivalent to the number of ratings in our dataset."
   ]
  },
  {
   "cell_type": "code",
   "execution_count": 14,
   "id": "05bccf32-7ff3-4036-bab0-e71b50c61863",
   "metadata": {},
   "outputs": [
    {
     "name": "stdout",
     "output_type": "stream",
     "text": [
      "Matrix sparsity: 0.23%\n"
     ]
    }
   ],
   "source": [
    "n_total = X.shape[0]*X.shape[1]\n",
    "n_ratings = X.nnz\n",
    "sparsity = n_ratings/n_total\n",
    "print(f\"Matrix sparsity: {round(sparsity*100,2)}%\")"
   ]
  },
  {
   "cell_type": "markdown",
   "id": "d869400b-0cf7-4488-b515-8e79f64bacdc",
   "metadata": {},
   "source": [
    "Usually a sparsity of 0.1 or above we are good to use this method of collaborative filtering else we have to use the Content based filtering. The **cold start problem** is when there are new users and movies in our matrix that do not have any ratings. In our Movielens dataset, all users and movies have at least one rating but in general, it's useful to check which users and movies have few interactions."
   ]
  },
  {
   "cell_type": "code",
   "execution_count": 15,
   "id": "0b8b33c6-3588-41be-81e1-55c3de96788e",
   "metadata": {},
   "outputs": [
    {
     "data": {
      "text/plain": [
       "610"
      ]
     },
     "execution_count": 15,
     "metadata": {},
     "output_type": "execute_result"
    }
   ],
   "source": [
    "n_ratings_per_user = X.getnnz(axis=1)\n",
    "len(n_ratings_per_user)"
   ]
  },
  {
   "cell_type": "code",
   "execution_count": 16,
   "id": "4f4f0261-008e-4635-b5ab-f1ad81621e74",
   "metadata": {},
   "outputs": [
    {
     "name": "stdout",
     "output_type": "stream",
     "text": [
      "Most active user rated 6616 movies.\n",
      "Least active user rated 40 movies.\n"
     ]
    }
   ],
   "source": [
    "print(f\"Most active user rated {n_ratings_per_user.max()} movies.\")\n",
    "print(f\"Least active user rated {n_ratings_per_user.min()} movies.\")\n",
    "# THIS MAY NOW MEAN SOMETHING ELSE. LIKE MOVIE-GENRES??"
   ]
  },
  {
   "cell_type": "code",
   "execution_count": 17,
   "id": "8b98400c-76e1-4b4f-9cfe-41b8afb637c8",
   "metadata": {},
   "outputs": [
    {
     "data": {
      "text/plain": [
       "194480"
      ]
     },
     "execution_count": 17,
     "metadata": {},
     "output_type": "execute_result"
    }
   ],
   "source": [
    "n_ratings_per_movie = X.getnnz(axis=0)\n",
    "len(n_ratings_per_movie)\n",
    "# THIS MAY NOW BE SMTH LIKE RATINGS PER MOVIE PER GENRE"
   ]
  },
  {
   "cell_type": "code",
   "execution_count": 18,
   "id": "b6d204a7-c0ab-4a93-80b5-030876f65919",
   "metadata": {},
   "outputs": [
    {
     "name": "stdout",
     "output_type": "stream",
     "text": [
      "Most rated movie has 329 ratings.\n",
      "Least rated movie has 0 ratings.\n"
     ]
    }
   ],
   "source": [
    "print(f\"Most rated movie has {n_ratings_per_movie.max()} ratings.\")\n",
    "print(f\"Least rated movie has {n_ratings_per_movie.min()} ratings.\")\n",
    "# UPDATE LOGIC EXPLAINED IN PRINT..."
   ]
  },
  {
   "cell_type": "markdown",
   "id": "6b94cbf1-5828-4004-ad82-33c08ae74bb8",
   "metadata": {},
   "source": [
    "We will be Implementing Collaborative Filtering using the K-Nearest Neighbors algorithm, considering that the matrix is dense, to identify movies with similar user engagement patterns"
   ]
  },
  {
   "cell_type": "code",
   "execution_count": 19,
   "id": "fe74c751-3087-4ea9-aacf-281022821b0c",
   "metadata": {},
   "outputs": [],
   "source": [
    "from sklearn.neighbors import NearestNeighbors"
   ]
  },
  {
   "cell_type": "code",
   "execution_count": 20,
   "id": "e9e8eaeb-8156-4ad5-93e3-9042f4d4c549",
   "metadata": {},
   "outputs": [],
   "source": [
    "# # ARIELMY ATTEMPT TO ADD USER INPUT TO ABOVE\n",
    "# def find_similar_movies(movie_id, X, movie_mapper, genre_mapper, k, metric='cosine'):\n",
    "#     \"\"\"\n",
    "#     Finds k-nearest neighbors for a given movie id.\n",
    "    \n",
    "#     Args:\n",
    "#         movie_id: id of the movie of interest\n",
    "#         X: user-item utility matrix\n",
    "#         k: number of similar movies to retrieve\n",
    "#         metric: distance metric for kNN calculations\n",
    "    \n",
    "#     Output: returns list of k similar movie ID's\n",
    "#     \"\"\"\n",
    "#     X = X.T\n",
    "#     neighbour_ids = []\n",
    "    \n",
    "#     movie_ind = movie_mapper[movie_id]\n",
    "#     movie_vec = X[movie_ind]\n",
    "#     if isinstance(movie_vec, (np.ndarray)):\n",
    "#         movie_vec = movie_vec.reshape(1,-1)\n",
    "#     # use k+1 since kNN output includes the movieId of interest\n",
    "#     kNN = NearestNeighbors(n_neighbors=k+1, algorithm=\"brute\", metric=metric)\n",
    "#     kNN.fit(X)\n",
    "#     neighbour = kNN.kneighbors(movie_vec, return_distance=False)\n",
    "#     for i in range(0, k):\n",
    "#         n = neighbour.item(i)\n",
    "#         neighbour_ids.append(movie_inv_mapper[n])\n",
    "#     neighbour_ids.pop(0)\n",
    "#     return neighbour_ids\n"
   ]
  },
  {
   "cell_type": "code",
   "execution_count": 21,
   "id": "508e69db-ae1a-4a16-8ad2-9b65201d6b15",
   "metadata": {},
   "outputs": [],
   "source": [
    "# from sklearn.metrics.pairwise import cosine_similarity\n",
    "\n",
    "# def find_similar_movies(movie_id, X, movie_mapper, genre_mapper, k=5):\n",
    "#     # Convert the COO matrix to CSR format for efficient row slicing\n",
    "#     X_csr = X.tocsr()\n",
    "    \n",
    "#     # Get the index of the movie_id\n",
    "#     if movie_id not in movie_mapper:\n",
    "#         raise ValueError(\"Movie ID not found in movie_mapper.\")\n",
    "    \n",
    "#     movie_index = movie_mapper[movie_id]\n",
    "    \n",
    "#     # Get the vector for the specified movie\n",
    "#     movie_vector = X_csr[movie_index].toarray()  # Convert to dense array for similarity computation\n",
    "    \n",
    "#     # Compute cosine similarity between the movie vector and all other movie vectors\n",
    "#     similarities = cosine_similarity(movie_vector, X_csr).flatten()  # Flatten to get a 1D array\n",
    "    \n",
    "#     # Get the indices of the top k similar movies (excluding the movie itself)\n",
    "#     similar_indices = similarities.argsort()[-k-1:-1][::-1]  # Get top k indices, excluding the movie itself\n",
    "    \n",
    "#     # Map indices back to movie IDs\n",
    "#     similar_movies = [(movie_mapper_inv[i], similarities[i]) for i in similar_indices]\n",
    "    \n",
    "#     return similar_movies\n"
   ]
  },
  {
   "cell_type": "code",
   "execution_count": 22,
   "id": "444c8dbd-7e0b-43cd-b147-22b2a925f15c",
   "metadata": {},
   "outputs": [],
   "source": [
    "# from sklearn.metrics.pairwise import cosine_similarity\n",
    "# def find_similar_movies(movie_id, X, movie_mapper, genre_mapper, k=5):\n",
    "#     # Convert the COO matrix to CSR format for efficient row slicing\n",
    "#     X_csr = X.tocsr()\n",
    "    \n",
    "#     # Check if the movie_id exists in the movie_mapper\n",
    "#     if movie_id not in movie_mapper:\n",
    "#         raise ValueError(\"Movie ID not found in movie_mapper.\")\n",
    "    \n",
    "#     movie_index = movie_mapper[movie_id]\n",
    "    \n",
    "#     # Get the vector for the specified movie\n",
    "#     movie_vector = X_csr[movie_index].toarray()  # Convert to dense array for similarity computation\n",
    "    \n",
    "#     # Compute cosine similarity between the movie vector and all other movie vectors\n",
    "#     similarities = cosine_similarity(movie_vector, X_csr).flatten()  # Flatten to get a 1D array\n",
    "    \n",
    "#     # Get the genre of the specified movie\n",
    "#     movie_genre = genre_mapper[movie_id]  # Assuming genre_mapper maps movie_id to its genre\n",
    "    \n",
    "#     # Filter similar movies by genre (this is a simple example; adjust as necessary)\n",
    "#     similar_movies = []\n",
    "#     for i in range(len(similarities)):\n",
    "#         if genre_mapper.get(movie_mapper[i]) == movie_genre:  # Check if genres match\n",
    "#             similar_movies.append((i, similarities[i]))\n",
    "    \n",
    "#     # Sort and get the top k similar movies\n",
    "#     similar_movies.sort(key=lambda x: x[1], reverse=True)\n",
    "#     return similar_movies[:k]"
   ]
  },
  {
   "cell_type": "code",
   "execution_count": 23,
   "id": "6daa0b17-b2d5-4e9b-ae8b-b56f61c70ef6",
   "metadata": {},
   "outputs": [],
   "source": [
    "from sklearn.metrics.pairwise import cosine_similarity\n",
    "def find_similar_movies(movie_id, X, movie_mapper, genre_mapper, k=5, genre_weight=1.5):\n",
    "    # Convert the COO matrix to CSR format for efficient row slicing\n",
    "    X_csr = X.tocsr()\n",
    "    \n",
    "    # Check if the movie_id exists in the movie_mapper\n",
    "    if movie_id not in movie_mapper:\n",
    "        raise ValueError(\"Movie ID not found in movie_mapper.\")\n",
    "    \n",
    "    movie_index = movie_mapper[movie_id]\n",
    "    \n",
    "    # Get the vector for the specified movie\n",
    "    movie_vector = X_csr[movie_index].toarray()  # Convert to dense array for similarity computation\n",
    "    \n",
    "    # Compute cosine similarity between the movie vector and all other movie vectors\n",
    "    similarities = cosine_similarity(movie_vector, X_csr).flatten()  # Flatten to get a 1D array\n",
    "    \n",
    "    # Get the genre of the specified movie\n",
    "    movie_genre = genre_mapper[movie_id]  # Assuming genre_mapper maps movie_id to its genre\n",
    "    \n",
    "    # Create a list to hold weighted similarities\n",
    "    weighted_similarities = []\n",
    "    \n",
    "    for i in range(len(similarities)):\n",
    "        # Check if genres match\n",
    "        if genre_mapper.get(movie_mapper[i]) == movie_genre:\n",
    "            # Increase similarity score by genre_weight if genres match\n",
    "            weighted_similarity = similarities[i] * genre_weight\n",
    "        else:\n",
    "            weighted_similarity = similarities[i]\n",
    "        \n",
    "        weighted_similarities.append((i, weighted_similarity))\n",
    "    \n",
    "    # Sort and get the top k similar movies based on weighted similarity\n",
    "    weighted_similarities.sort(key=lambda x: x[1], reverse=True)\n",
    "    \n",
    "    # Map indices back to movie IDs for the output\n",
    "    similar_movies = [(movie_mapper[i], weighted_similarity) for i, weighted_similarity in weighted_similarities[:k]]\n",
    "    \n",
    "    return similar_movies"
   ]
  },
  {
   "cell_type": "markdown",
   "id": "289f6253-44d7-4f61-9eaf-734a6483d4e7",
   "metadata": {},
   "source": [
    "find_similar_movies() takes in a movieId and X matrix, and outputs a list of\n",
    "\n",
    "movies that are similar to the movieId of interest.\n",
    "\n",
    "Let's see how it works in action. We will first create another mapper that maps movieId to title so that our results are interpretable."
   ]
  },
  {
   "cell_type": "code",
   "execution_count": 24,
   "id": "bb8d2cea-7130-4867-834f-5b101efcfc77",
   "metadata": {},
   "outputs": [
    {
     "name": "stdin",
     "output_type": "stream",
     "text": [
      "Please enter the movie title you want to search for:  Toy Story\n"
     ]
    },
    {
     "name": "stdout",
     "output_type": "stream",
     "text": [
      "The movie ID for 'Toy Story' is: 1\n"
     ]
    }
   ],
   "source": [
    "# ARIELMY: HELP USER SEARCH FOR THEIR MOVIE ID TO USE IN NEXT STEP\n",
    "# Create a dictionary mapping movie IDs to titles\n",
    "movie_titles = dict(zip(consolidated_movies_df['movieId'], consolidated_movies_df['title']))\n",
    "\n",
    "# Get user input for the movie title\n",
    "search_title = input(\"Please enter the movie title you want to search for: \")\n",
    "\n",
    "# Find the movie ID based on the title\n",
    "movie_id = [key for key, value in movie_titles.items() if value.lower() == search_title.lower()]\n",
    "\n",
    "if movie_id:\n",
    "    movie_id = movie_id[0]  # Get the first match\n",
    "    print(f\"The movie ID for '{search_title}' is: {movie_id}\")"
   ]
  },
  {
   "cell_type": "code",
   "execution_count": 30,
   "id": "c5199f2a-aa19-4766-bc93-52405b882f80",
   "metadata": {},
   "outputs": [
    {
     "name": "stdout",
     "output_type": "stream",
     "text": [
      "The valid range of movie IDs is from 1 to 193609.\n",
      "Here are some valid movie IDs you can choose from: [1, 2, 3, 4, 5, 6, 7, 8, 9, 10]\n"
     ]
    }
   ],
   "source": [
    "# Check the range of valid movie IDs\n",
    "min_movie_id = min(movie_mapper.keys())\n",
    "max_movie_id = max(movie_mapper.keys())\n",
    "print(f\"The valid range of movie IDs is from {min_movie_id} to {max_movie_id}.\")\n",
    "\n",
    "# Display a sample of valid movie IDs\n",
    "sample_movie_ids = list(movie_mapper.keys())[:10]  # Get the first 10 valid movie IDs\n",
    "print(\"Here are some valid movie IDs you can choose from:\", sample_movie_ids)"
   ]
  },
  {
   "cell_type": "code",
   "execution_count": 28,
   "id": "06532c03-a578-4140-b98c-0af52e159a9a",
   "metadata": {},
   "outputs": [
    {
     "name": "stdin",
     "output_type": "stream",
     "text": [
      "Enter the movie ID:  2\n",
      "Enter the number of similar movies to retrieve (k):  10\n",
      "Enter the genre weight (e.g., 1.5 for a 50% increase):  1.5\n"
     ]
    },
    {
     "ename": "KeyError",
     "evalue": "2",
     "output_type": "error",
     "traceback": [
      "\u001b[1;31m---------------------------------------------------------------------------\u001b[0m",
      "\u001b[1;31mKeyError\u001b[0m                                  Traceback (most recent call last)",
      "Cell \u001b[1;32mIn[28], line 12\u001b[0m\n\u001b[0;32m      9\u001b[0m     \u001b[38;5;28mprint\u001b[39m(\u001b[38;5;124m\"\u001b[39m\u001b[38;5;124mAvailable Movie IDs:\u001b[39m\u001b[38;5;124m\"\u001b[39m, \u001b[38;5;28mlist\u001b[39m(movie_mapper\u001b[38;5;241m.\u001b[39mkeys())[:\u001b[38;5;241m10\u001b[39m])  \u001b[38;5;66;03m# Show a sample of available IDs\u001b[39;00m\n\u001b[0;32m     10\u001b[0m \u001b[38;5;28;01melse\u001b[39;00m:\n\u001b[0;32m     11\u001b[0m     \u001b[38;5;66;03m# Call the function with the user-defined k value and genre weight\u001b[39;00m\n\u001b[1;32m---> 12\u001b[0m     similar_movies \u001b[38;5;241m=\u001b[39m \u001b[43mfind_similar_movies\u001b[49m\u001b[43m(\u001b[49m\u001b[43muser_movie_id\u001b[49m\u001b[43m,\u001b[49m\u001b[43m \u001b[49m\u001b[43mX\u001b[49m\u001b[43m,\u001b[49m\u001b[43m \u001b[49m\u001b[43mmovie_mapper\u001b[49m\u001b[43m,\u001b[49m\u001b[43m \u001b[49m\u001b[43mgenre_mapper\u001b[49m\u001b[43m,\u001b[49m\u001b[43m \u001b[49m\u001b[43mk\u001b[49m\u001b[38;5;241;43m=\u001b[39;49m\u001b[43muser_k\u001b[49m\u001b[43m,\u001b[49m\u001b[43m \u001b[49m\u001b[43mgenre_weight\u001b[49m\u001b[38;5;241;43m=\u001b[39;49m\u001b[43muser_genre_weight\u001b[49m\u001b[43m)\u001b[49m\n\u001b[0;32m     14\u001b[0m     \u001b[38;5;66;03m# Print the similar movies\u001b[39;00m\n\u001b[0;32m     15\u001b[0m     \u001b[38;5;28mprint\u001b[39m(\u001b[38;5;124m\"\u001b[39m\u001b[38;5;124mSimilar Movies:\u001b[39m\u001b[38;5;124m\"\u001b[39m)\n",
      "Cell \u001b[1;32mIn[23], line 19\u001b[0m, in \u001b[0;36mfind_similar_movies\u001b[1;34m(movie_id, X, movie_mapper, genre_mapper, k, genre_weight)\u001b[0m\n\u001b[0;32m     16\u001b[0m similarities \u001b[38;5;241m=\u001b[39m cosine_similarity(movie_vector, X_csr)\u001b[38;5;241m.\u001b[39mflatten()  \u001b[38;5;66;03m# Flatten to get a 1D array\u001b[39;00m\n\u001b[0;32m     18\u001b[0m \u001b[38;5;66;03m# Get the genre of the specified movie\u001b[39;00m\n\u001b[1;32m---> 19\u001b[0m movie_genre \u001b[38;5;241m=\u001b[39m \u001b[43mgenre_mapper\u001b[49m\u001b[43m[\u001b[49m\u001b[43mmovie_id\u001b[49m\u001b[43m]\u001b[49m  \u001b[38;5;66;03m# Assuming genre_mapper maps movie_id to its genre\u001b[39;00m\n\u001b[0;32m     21\u001b[0m \u001b[38;5;66;03m# Create a list to hold weighted similarities\u001b[39;00m\n\u001b[0;32m     22\u001b[0m weighted_similarities \u001b[38;5;241m=\u001b[39m []\n",
      "\u001b[1;31mKeyError\u001b[0m: 2"
     ]
    }
   ],
   "source": [
    "# Get user input for movie_id, k, and genre_weight\n",
    "user_movie_id = int(input(\"Enter the movie ID: \"))\n",
    "user_k = int(input(\"Enter the number of similar movies to retrieve (k): \"))\n",
    "user_genre_weight = float(input(\"Enter the genre weight (e.g., 1.5 for a 50% increase): \"))\n",
    "\n",
    "# Check if the movie_id exists in the movie_mapper\n",
    "if user_movie_id not in movie_mapper:\n",
    "    print(\"Error: Movie ID not found. Please enter a valid movie ID.\")\n",
    "    print(\"Available Movie IDs:\", list(movie_mapper.keys())[:10])  # Show a sample of available IDs\n",
    "else:\n",
    "    # Call the function with the user-defined k value and genre weight\n",
    "    similar_movies = find_similar_movies(user_movie_id, X, movie_mapper, genre_mapper, k=user_k, genre_weight=user_genre_weight)\n",
    "\n",
    "    # Print the similar movies\n",
    "    print(\"Similar Movies:\")\n",
    "    for movie in similar_movies:\n",
    "        print(movie)"
   ]
  },
  {
   "cell_type": "code",
   "execution_count": 25,
   "id": "44c3e972-8b23-4a25-a8ed-0f9b94db1f49",
   "metadata": {},
   "outputs": [
    {
     "name": "stdin",
     "output_type": "stream",
     "text": [
      "Enter the movie ID:  1791\n",
      "Enter the number of similar movies to retrieve (k):  10\n"
     ]
    },
    {
     "ename": "IndexError",
     "evalue": "row index (1323) out of range",
     "output_type": "error",
     "traceback": [
      "\u001b[1;31m---------------------------------------------------------------------------\u001b[0m",
      "\u001b[1;31mIndexError\u001b[0m                                Traceback (most recent call last)",
      "Cell \u001b[1;32mIn[25], line 7\u001b[0m\n\u001b[0;32m      4\u001b[0m user_k \u001b[38;5;241m=\u001b[39m \u001b[38;5;28mint\u001b[39m(\u001b[38;5;28minput\u001b[39m(\u001b[38;5;124m\"\u001b[39m\u001b[38;5;124mEnter the number of similar movies to retrieve (k): \u001b[39m\u001b[38;5;124m\"\u001b[39m))\n\u001b[0;32m      6\u001b[0m \u001b[38;5;66;03m# Call the function with the user-defined k value\u001b[39;00m\n\u001b[1;32m----> 7\u001b[0m similar_movies \u001b[38;5;241m=\u001b[39m \u001b[43mfind_similar_movies\u001b[49m\u001b[43m(\u001b[49m\u001b[43muser_movie_id\u001b[49m\u001b[43m,\u001b[49m\u001b[43m \u001b[49m\u001b[43mX\u001b[49m\u001b[43m,\u001b[49m\u001b[43m \u001b[49m\u001b[43mmovie_mapper\u001b[49m\u001b[43m,\u001b[49m\u001b[43m \u001b[49m\u001b[43mgenre_mapper\u001b[49m\u001b[43m,\u001b[49m\u001b[43m \u001b[49m\u001b[43mk\u001b[49m\u001b[38;5;241;43m=\u001b[39;49m\u001b[43muser_k\u001b[49m\u001b[43m)\u001b[49m\n\u001b[0;32m      8\u001b[0m \u001b[38;5;28mprint\u001b[39m(\u001b[38;5;124m\"\u001b[39m\u001b[38;5;124mSimilar Movies:\u001b[39m\u001b[38;5;124m\"\u001b[39m, similar_movies)\n",
      "Cell \u001b[1;32mIn[23], line 13\u001b[0m, in \u001b[0;36mfind_similar_movies\u001b[1;34m(movie_id, X, movie_mapper, genre_mapper, k)\u001b[0m\n\u001b[0;32m     10\u001b[0m movie_index \u001b[38;5;241m=\u001b[39m movie_mapper[movie_id]\n\u001b[0;32m     12\u001b[0m \u001b[38;5;66;03m# Get the vector for the specified movie\u001b[39;00m\n\u001b[1;32m---> 13\u001b[0m movie_vector \u001b[38;5;241m=\u001b[39m \u001b[43mX_csr\u001b[49m\u001b[43m[\u001b[49m\u001b[43mmovie_index\u001b[49m\u001b[43m]\u001b[49m\u001b[38;5;241m.\u001b[39mtoarray()  \u001b[38;5;66;03m# Convert to dense array for similarity computation\u001b[39;00m\n\u001b[0;32m     15\u001b[0m \u001b[38;5;66;03m# Compute cosine similarity between the movie vector and all other movie vectors\u001b[39;00m\n\u001b[0;32m     16\u001b[0m similarities \u001b[38;5;241m=\u001b[39m cosine_similarity(movie_vector, X_csr)\u001b[38;5;241m.\u001b[39mflatten()  \u001b[38;5;66;03m# Flatten to get a 1D array\u001b[39;00m\n",
      "File \u001b[1;32m~\\anaconda3\\envs\\pythondata\\lib\\site-packages\\scipy\\sparse\\_index.py:52\u001b[0m, in \u001b[0;36mIndexMixin.__getitem__\u001b[1;34m(self, key)\u001b[0m\n\u001b[0;32m     51\u001b[0m \u001b[38;5;28;01mdef\u001b[39;00m \u001b[38;5;21m__getitem__\u001b[39m(\u001b[38;5;28mself\u001b[39m, key):\n\u001b[1;32m---> 52\u001b[0m     row, col \u001b[38;5;241m=\u001b[39m \u001b[38;5;28;43mself\u001b[39;49m\u001b[38;5;241;43m.\u001b[39;49m\u001b[43m_validate_indices\u001b[49m\u001b[43m(\u001b[49m\u001b[43mkey\u001b[49m\u001b[43m)\u001b[49m\n\u001b[0;32m     54\u001b[0m     \u001b[38;5;66;03m# Dispatch to specialized methods.\u001b[39;00m\n\u001b[0;32m     55\u001b[0m     \u001b[38;5;28;01mif\u001b[39;00m \u001b[38;5;28misinstance\u001b[39m(row, INT_TYPES):\n",
      "File \u001b[1;32m~\\anaconda3\\envs\\pythondata\\lib\\site-packages\\scipy\\sparse\\_index.py:180\u001b[0m, in \u001b[0;36mIndexMixin._validate_indices\u001b[1;34m(self, key)\u001b[0m\n\u001b[0;32m    178\u001b[0m row \u001b[38;5;241m=\u001b[39m \u001b[38;5;28mint\u001b[39m(row)\n\u001b[0;32m    179\u001b[0m \u001b[38;5;28;01mif\u001b[39;00m row \u001b[38;5;241m<\u001b[39m \u001b[38;5;241m-\u001b[39mM \u001b[38;5;129;01mor\u001b[39;00m row \u001b[38;5;241m>\u001b[39m\u001b[38;5;241m=\u001b[39m M:\n\u001b[1;32m--> 180\u001b[0m     \u001b[38;5;28;01mraise\u001b[39;00m \u001b[38;5;167;01mIndexError\u001b[39;00m(\u001b[38;5;124m'\u001b[39m\u001b[38;5;124mrow index (\u001b[39m\u001b[38;5;132;01m%d\u001b[39;00m\u001b[38;5;124m) out of range\u001b[39m\u001b[38;5;124m'\u001b[39m \u001b[38;5;241m%\u001b[39m row)\n\u001b[0;32m    181\u001b[0m \u001b[38;5;28;01mif\u001b[39;00m row \u001b[38;5;241m<\u001b[39m \u001b[38;5;241m0\u001b[39m:\n\u001b[0;32m    182\u001b[0m     row \u001b[38;5;241m+\u001b[39m\u001b[38;5;241m=\u001b[39m M\n",
      "\u001b[1;31mIndexError\u001b[0m: row index (1323) out of range"
     ]
    }
   ],
   "source": [
    "# # ARIELMY\n",
    "# # Get user input for movie_id and k\n",
    "# user_movie_id = int(input(\"Enter the movie ID: \"))\n",
    "# user_k = int(input(\"Enter the number of similar movies to retrieve (k): \"))\n",
    "\n",
    "# # Call the function with the user-defined k value\n",
    "\n",
    "# similar_movies = find_similar_movies(user_movie_id, X, movie_mapper, genre_mapper, k=user_k)\n",
    "# print(\"Similar Movies:\", similar_movies)"
   ]
  },
  {
   "cell_type": "markdown",
   "id": "789e1280-ad01-4490-bd29-ae96c4fec52d",
   "metadata": {},
   "source": [
    "find_similar_movies() returns a list of movieId's that are most similar to your movie of interest. Let's convert these id's to titles so that we can interpret our results. To make things easier, we will create a dictionary that maps movieId to title."
   ]
  },
  {
   "cell_type": "code",
   "execution_count": 32,
   "id": "84a29a3a-d396-4e6a-9d94-2583abd9d9a5",
   "metadata": {},
   "outputs": [
    {
     "name": "stdout",
     "output_type": "stream",
     "text": [
      "Because you watched Twilight:\n",
      "Damsels in Distress\n",
      "Father Hood\n",
      "Jack the Bear\n",
      "Nick Fury: Agent of S.H.I.E.L.D.\n",
      "Ski School\n",
      "The Hound of the Baskervilles\n",
      "Assassination Tango\n",
      "Dragon Ball Z: Bojack Unbound (Doragon bôru Z 9: Ginga girigiri!! Butchigiri no sugoi yatsu)\n",
      "Meet the Applegates\n",
      "2048: Nowhere to Run\n",
      "Christopher Columbus: The Discovery\n",
      "The Night Before\n",
      "Meteor Man, The\n",
      "Godzilla vs. Mechagodzilla (Gojira tai Mekagojira)\n",
      "Double Trouble\n",
      "The Prime Gig\n",
      "Plain Clothes\n",
      "Dragon Ball Z: Broly - The Legendary Super Saiyan (Doragon bôru Z 8: Moetsukiro!! Nessen retsusen-chô gekisen)\n",
      "Omega Doom\n",
      "The Punisher: Dirty Laundry\n",
      "A Man Called Blade\n",
      "Zone 39\n",
      "Jetsons: The Movie\n",
      "Hamburger Hill\n"
     ]
    }
   ],
   "source": [
    "movie_title = movie_titles[movie_id]\n",
    "\n",
    "print(f\"Because you watched {movie_title}:\")\n",
    "for i in similar_movies:\n",
    "    print(movie_titles[i])"
   ]
  },
  {
   "cell_type": "code",
   "execution_count": 15,
   "id": "b2342088-a2c4-45b3-97d9-776e12a0bb5c",
   "metadata": {},
   "outputs": [],
   "source": [
    "# Save the DataFrame to a CSV file\n",
    "consolidated_movies_df.to_csv('consolidated_movies.csv', index=False)"
   ]
  },
  {
   "cell_type": "code",
   "execution_count": 16,
   "id": "fc647956-7e88-4437-ad17-b5f3b43bf3e5",
   "metadata": {},
   "outputs": [
    {
     "name": "stdout",
     "output_type": "stream",
     "text": [
      "Number of unique movies: 9724\n",
      "Number of unique users: 610\n"
     ]
    }
   ],
   "source": [
    "# Analysis on Data\n",
    "# Count of Unique users and movies\n",
    "print(\"Number of unique movies:\", consolidated_movies_df['movieId'].nunique())\n",
    "print(\"Number of unique users:\", consolidated_movies_df['userId'].nunique())\n"
   ]
  },
  {
   "cell_type": "code",
   "execution_count": 17,
   "id": "3622f856-5618-4576-83d1-3e08ff85b597",
   "metadata": {},
   "outputs": [
    {
     "name": "stdout",
     "output_type": "stream",
     "text": [
      "movieId\n",
      "1    3.920930\n",
      "2    3.431818\n",
      "3    3.259615\n",
      "4    2.357143\n",
      "5    3.071429\n",
      "Name: rating, dtype: float64\n"
     ]
    }
   ],
   "source": [
    "#what are the average ratings per movie\n",
    "average_ratings = consolidated_movies_df.groupby('movieId')['rating'].mean()\n",
    "print(average_ratings.head())\n"
   ]
  },
  {
   "cell_type": "code",
   "execution_count": null,
   "id": "caa6220a-dbda-4da1-a169-450dc1ce4615",
   "metadata": {},
   "outputs": [],
   "source": [
    "# Take in the tags csv and read it into pandas\n",
    "tags = \"Resources/ml-latest-small/tags.csv\"\n",
    "tags_df = pd.read_csv(tags)\n",
    "tags_df.head()"
   ]
  },
  {
   "cell_type": "code",
   "execution_count": null,
   "id": "e7188e75-a2fa-48e5-9e3d-d5c261fc838d",
   "metadata": {},
   "outputs": [],
   "source": [
    "# Merge the DataFrames on movieId with tags \n",
    "tags_movies_df = consolidated_movies_df.merge(tags_df , on = 'movieId', how ='outer')\n",
    "tags_movies_df.head()"
   ]
  },
  {
   "cell_type": "code",
   "execution_count": null,
   "id": "81604a91-52bd-4270-b939-b194ac6d0621",
   "metadata": {},
   "outputs": [],
   "source": []
  },
  {
   "cell_type": "code",
   "execution_count": null,
   "id": "57eadec3-e7e5-4d8c-a9fb-611856ef3dc0",
   "metadata": {},
   "outputs": [],
   "source": []
  }
 ],
 "metadata": {
  "kernelspec": {
   "display_name": "Python 3 (ipykernel)",
   "language": "python",
   "name": "python3"
  },
  "language_info": {
   "codemirror_mode": {
    "name": "ipython",
    "version": 3
   },
   "file_extension": ".py",
   "mimetype": "text/x-python",
   "name": "python",
   "nbconvert_exporter": "python",
   "pygments_lexer": "ipython3",
   "version": "3.10.14"
  }
 },
 "nbformat": 4,
 "nbformat_minor": 5
}
